{
 "cells": [
  {
   "attachments": {},
   "cell_type": "markdown",
   "metadata": {},
   "source": [
    "### Requires\n",
    "1. Sampling Rate : 16000 \n",
    "2. Channels : Mono\n",
    "3. Type : Wav\n",
    "4. Not more that 1 min (5 second to be safe)"
   ]
  },
  {
   "cell_type": "code",
   "execution_count": 1,
   "metadata": {},
   "outputs": [
    {
     "data": {
      "text/plain": [
       "1"
      ]
     },
     "execution_count": 1,
     "metadata": {},
     "output_type": "execute_result"
    }
   ],
   "source": [
    "import subprocess\n",
    "subprocess.call('rm temp.wav',shell=True)\n",
    "#converting mp3 to wav\n",
    "subprocess.call('ffmpeg -i {} -acodec pcm_s16le -ar 16000 -ac 1 temp.wav'.format('dialog1.mp3'),shell=True)\n",
    "#removing previous present files\n",
    "subprocess.call('rm parts/*', shell=True)\n",
    "#segmenting our .wav in parts of 5 seconds for processing \n",
    "subprocess.call('ffmpeg -i temp.wav -f segment -segment_time 5 -c copy parts/out%09d.wav',shell=True)"
   ]
  },
  {
   "cell_type": "code",
   "execution_count": 2,
   "metadata": {},
   "outputs": [
    {
     "data": {
      "text/plain": [
       "['out000000000.wav',\n",
       " 'out000000001.wav',\n",
       " 'out000000002.wav',\n",
       " 'out000000003.wav',\n",
       " 'out000000004.wav',\n",
       " 'out000000005.wav',\n",
       " 'out000000006.wav',\n",
       " 'out000000007.wav',\n",
       " 'out000000008.wav',\n",
       " 'out000000009.wav',\n",
       " 'out000000010.wav',\n",
       " 'out000000011.wav',\n",
       " 'out000000012.wav']"
      ]
     },
     "execution_count": 2,
     "metadata": {},
     "output_type": "execute_result"
    }
   ],
   "source": [
    "import os\n",
    "# API KEY : Issued in the Name of Aditya Jain : Please do not share\n",
    "os.environ[\"GOOGLE_APPLICATION_CREDENTIALS\"]=\"../Audio-to-speech-aa00874e061f.json\"\n",
    "files = os.listdir('parts')\n",
    "sorted(files)"
   ]
  },
  {
   "cell_type": "code",
   "execution_count": 3,
   "metadata": {},
   "outputs": [
    {
     "ename": "DefaultCredentialsError",
     "evalue": "File ../Audio-to-speech-aa00874e061f.json was not found.",
     "output_type": "error",
     "traceback": [
      "\u001b[1;31m---------------------------------------------------------------------------\u001b[0m",
      "\u001b[1;31mDefaultCredentialsError\u001b[0m                   Traceback (most recent call last)",
      "Cell \u001b[1;32mIn[3], line 3\u001b[0m\n\u001b[0;32m      1\u001b[0m \u001b[39mfrom\u001b[39;00m \u001b[39mgoogle\u001b[39;00m\u001b[39m.\u001b[39;00m\u001b[39mcloud\u001b[39;00m \u001b[39mimport\u001b[39;00m speech_v1p1beta1 \u001b[39mas\u001b[39;00m speech\n\u001b[0;32m      2\u001b[0m \u001b[39mfrom\u001b[39;00m \u001b[39mtqdm\u001b[39;00m \u001b[39mimport\u001b[39;00m tqdm\n\u001b[1;32m----> 3\u001b[0m client \u001b[39m=\u001b[39m speech\u001b[39m.\u001b[39;49mSpeechClient()\n\u001b[0;32m      5\u001b[0m conversation \u001b[39m=\u001b[39m \u001b[39mlist\u001b[39m()\n\u001b[0;32m      7\u001b[0m \u001b[39mfor\u001b[39;00m file \u001b[39min\u001b[39;00m tqdm(\u001b[39msorted\u001b[39m(files)):\n",
      "File \u001b[1;32mc:\\Users\\bhara\\AppData\\Local\\Programs\\Python\\Python311\\Lib\\site-packages\\google\\cloud\\speech_v1p1beta1\\services\\speech\\client.py:459\u001b[0m, in \u001b[0;36mSpeechClient.__init__\u001b[1;34m(self, credentials, transport, client_options, client_info)\u001b[0m\n\u001b[0;32m    454\u001b[0m     credentials \u001b[39m=\u001b[39m google\u001b[39m.\u001b[39mauth\u001b[39m.\u001b[39m_default\u001b[39m.\u001b[39mget_api_key_credentials(\n\u001b[0;32m    455\u001b[0m         api_key_value\n\u001b[0;32m    456\u001b[0m     )\n\u001b[0;32m    458\u001b[0m Transport \u001b[39m=\u001b[39m \u001b[39mtype\u001b[39m(\u001b[39mself\u001b[39m)\u001b[39m.\u001b[39mget_transport_class(transport)\n\u001b[1;32m--> 459\u001b[0m \u001b[39mself\u001b[39m\u001b[39m.\u001b[39m_transport \u001b[39m=\u001b[39m Transport(\n\u001b[0;32m    460\u001b[0m     credentials\u001b[39m=\u001b[39;49mcredentials,\n\u001b[0;32m    461\u001b[0m     credentials_file\u001b[39m=\u001b[39;49mclient_options\u001b[39m.\u001b[39;49mcredentials_file,\n\u001b[0;32m    462\u001b[0m     host\u001b[39m=\u001b[39;49mapi_endpoint,\n\u001b[0;32m    463\u001b[0m     scopes\u001b[39m=\u001b[39;49mclient_options\u001b[39m.\u001b[39;49mscopes,\n\u001b[0;32m    464\u001b[0m     client_cert_source_for_mtls\u001b[39m=\u001b[39;49mclient_cert_source_func,\n\u001b[0;32m    465\u001b[0m     quota_project_id\u001b[39m=\u001b[39;49mclient_options\u001b[39m.\u001b[39;49mquota_project_id,\n\u001b[0;32m    466\u001b[0m     client_info\u001b[39m=\u001b[39;49mclient_info,\n\u001b[0;32m    467\u001b[0m     always_use_jwt_access\u001b[39m=\u001b[39;49m\u001b[39mTrue\u001b[39;49;00m,\n\u001b[0;32m    468\u001b[0m     api_audience\u001b[39m=\u001b[39;49mclient_options\u001b[39m.\u001b[39;49mapi_audience,\n\u001b[0;32m    469\u001b[0m )\n",
      "File \u001b[1;32mc:\\Users\\bhara\\AppData\\Local\\Programs\\Python\\Python311\\Lib\\site-packages\\google\\cloud\\speech_v1p1beta1\\services\\speech\\transports\\grpc.py:153\u001b[0m, in \u001b[0;36mSpeechGrpcTransport.__init__\u001b[1;34m(self, host, credentials, credentials_file, scopes, channel, api_mtls_endpoint, client_cert_source, ssl_channel_credentials, client_cert_source_for_mtls, quota_project_id, client_info, always_use_jwt_access, api_audience)\u001b[0m\n\u001b[0;32m    148\u001b[0m             \u001b[39mself\u001b[39m\u001b[39m.\u001b[39m_ssl_channel_credentials \u001b[39m=\u001b[39m grpc\u001b[39m.\u001b[39mssl_channel_credentials(\n\u001b[0;32m    149\u001b[0m                 certificate_chain\u001b[39m=\u001b[39mcert, private_key\u001b[39m=\u001b[39mkey\n\u001b[0;32m    150\u001b[0m             )\n\u001b[0;32m    152\u001b[0m \u001b[39m# The base transport sets the host, credentials and scopes\u001b[39;00m\n\u001b[1;32m--> 153\u001b[0m \u001b[39msuper\u001b[39;49m()\u001b[39m.\u001b[39;49m\u001b[39m__init__\u001b[39;49m(\n\u001b[0;32m    154\u001b[0m     host\u001b[39m=\u001b[39;49mhost,\n\u001b[0;32m    155\u001b[0m     credentials\u001b[39m=\u001b[39;49mcredentials,\n\u001b[0;32m    156\u001b[0m     credentials_file\u001b[39m=\u001b[39;49mcredentials_file,\n\u001b[0;32m    157\u001b[0m     scopes\u001b[39m=\u001b[39;49mscopes,\n\u001b[0;32m    158\u001b[0m     quota_project_id\u001b[39m=\u001b[39;49mquota_project_id,\n\u001b[0;32m    159\u001b[0m     client_info\u001b[39m=\u001b[39;49mclient_info,\n\u001b[0;32m    160\u001b[0m     always_use_jwt_access\u001b[39m=\u001b[39;49malways_use_jwt_access,\n\u001b[0;32m    161\u001b[0m     api_audience\u001b[39m=\u001b[39;49mapi_audience,\n\u001b[0;32m    162\u001b[0m )\n\u001b[0;32m    164\u001b[0m \u001b[39mif\u001b[39;00m \u001b[39mnot\u001b[39;00m \u001b[39mself\u001b[39m\u001b[39m.\u001b[39m_grpc_channel:\n\u001b[0;32m    165\u001b[0m     \u001b[39mself\u001b[39m\u001b[39m.\u001b[39m_grpc_channel \u001b[39m=\u001b[39m \u001b[39mtype\u001b[39m(\u001b[39mself\u001b[39m)\u001b[39m.\u001b[39mcreate_channel(\n\u001b[0;32m    166\u001b[0m         \u001b[39mself\u001b[39m\u001b[39m.\u001b[39m_host,\n\u001b[0;32m    167\u001b[0m         \u001b[39m# use the credentials which are saved\u001b[39;00m\n\u001b[1;32m   (...)\u001b[0m\n\u001b[0;32m    178\u001b[0m         ],\n\u001b[0;32m    179\u001b[0m     )\n",
      "File \u001b[1;32mc:\\Users\\bhara\\AppData\\Local\\Programs\\Python\\Python311\\Lib\\site-packages\\google\\cloud\\speech_v1p1beta1\\services\\speech\\transports\\base.py:101\u001b[0m, in \u001b[0;36mSpeechTransport.__init__\u001b[1;34m(self, host, credentials, credentials_file, scopes, quota_project_id, client_info, always_use_jwt_access, api_audience, **kwargs)\u001b[0m\n\u001b[0;32m     97\u001b[0m     credentials, _ \u001b[39m=\u001b[39m google\u001b[39m.\u001b[39mauth\u001b[39m.\u001b[39mload_credentials_from_file(\n\u001b[0;32m     98\u001b[0m         credentials_file, \u001b[39m*\u001b[39m\u001b[39m*\u001b[39mscopes_kwargs, quota_project_id\u001b[39m=\u001b[39mquota_project_id\n\u001b[0;32m     99\u001b[0m     )\n\u001b[0;32m    100\u001b[0m \u001b[39melif\u001b[39;00m credentials \u001b[39mis\u001b[39;00m \u001b[39mNone\u001b[39;00m:\n\u001b[1;32m--> 101\u001b[0m     credentials, _ \u001b[39m=\u001b[39m google\u001b[39m.\u001b[39;49mauth\u001b[39m.\u001b[39;49mdefault(\n\u001b[0;32m    102\u001b[0m         \u001b[39m*\u001b[39;49m\u001b[39m*\u001b[39;49mscopes_kwargs, quota_project_id\u001b[39m=\u001b[39;49mquota_project_id\n\u001b[0;32m    103\u001b[0m     )\n\u001b[0;32m    104\u001b[0m     \u001b[39m# Don't apply audience if the credentials file passed from user.\u001b[39;00m\n\u001b[0;32m    105\u001b[0m     \u001b[39mif\u001b[39;00m \u001b[39mhasattr\u001b[39m(credentials, \u001b[39m\"\u001b[39m\u001b[39mwith_gdch_audience\u001b[39m\u001b[39m\"\u001b[39m):\n",
      "File \u001b[1;32mc:\\Users\\bhara\\AppData\\Local\\Programs\\Python\\Python311\\Lib\\site-packages\\google\\auth\\_default.py:615\u001b[0m, in \u001b[0;36mdefault\u001b[1;34m(scopes, request, quota_project_id, default_scopes)\u001b[0m\n\u001b[0;32m    603\u001b[0m checkers \u001b[39m=\u001b[39m (\n\u001b[0;32m    604\u001b[0m     \u001b[39m# Avoid passing scopes here to prevent passing scopes to user credentials.\u001b[39;00m\n\u001b[0;32m    605\u001b[0m     \u001b[39m# with_scopes_if_required() below will ensure scopes/default scopes are\u001b[39;00m\n\u001b[1;32m   (...)\u001b[0m\n\u001b[0;32m    611\u001b[0m     \u001b[39mlambda\u001b[39;00m: _get_gce_credentials(request, quota_project_id\u001b[39m=\u001b[39mquota_project_id),\n\u001b[0;32m    612\u001b[0m )\n\u001b[0;32m    614\u001b[0m \u001b[39mfor\u001b[39;00m checker \u001b[39min\u001b[39;00m checkers:\n\u001b[1;32m--> 615\u001b[0m     credentials, project_id \u001b[39m=\u001b[39m checker()\n\u001b[0;32m    616\u001b[0m     \u001b[39mif\u001b[39;00m credentials \u001b[39mis\u001b[39;00m \u001b[39mnot\u001b[39;00m \u001b[39mNone\u001b[39;00m:\n\u001b[0;32m    617\u001b[0m         credentials \u001b[39m=\u001b[39m with_scopes_if_required(\n\u001b[0;32m    618\u001b[0m             credentials, scopes, default_scopes\u001b[39m=\u001b[39mdefault_scopes\n\u001b[0;32m    619\u001b[0m         )\n",
      "File \u001b[1;32mc:\\Users\\bhara\\AppData\\Local\\Programs\\Python\\Python311\\Lib\\site-packages\\google\\auth\\_default.py:608\u001b[0m, in \u001b[0;36mdefault.<locals>.<lambda>\u001b[1;34m()\u001b[0m\n\u001b[0;32m    597\u001b[0m \u001b[39mfrom\u001b[39;00m \u001b[39mgoogle\u001b[39;00m\u001b[39m.\u001b[39;00m\u001b[39mauth\u001b[39;00m\u001b[39m.\u001b[39;00m\u001b[39mcredentials\u001b[39;00m \u001b[39mimport\u001b[39;00m CredentialsWithQuotaProject\n\u001b[0;32m    599\u001b[0m explicit_project_id \u001b[39m=\u001b[39m os\u001b[39m.\u001b[39menviron\u001b[39m.\u001b[39mget(\n\u001b[0;32m    600\u001b[0m     environment_vars\u001b[39m.\u001b[39mPROJECT, os\u001b[39m.\u001b[39menviron\u001b[39m.\u001b[39mget(environment_vars\u001b[39m.\u001b[39mLEGACY_PROJECT)\n\u001b[0;32m    601\u001b[0m )\n\u001b[0;32m    603\u001b[0m checkers \u001b[39m=\u001b[39m (\n\u001b[0;32m    604\u001b[0m     \u001b[39m# Avoid passing scopes here to prevent passing scopes to user credentials.\u001b[39;00m\n\u001b[0;32m    605\u001b[0m     \u001b[39m# with_scopes_if_required() below will ensure scopes/default scopes are\u001b[39;00m\n\u001b[0;32m    606\u001b[0m     \u001b[39m# safely set on the returned credentials since requires_scopes will\u001b[39;00m\n\u001b[0;32m    607\u001b[0m     \u001b[39m# guard against setting scopes on user credentials.\u001b[39;00m\n\u001b[1;32m--> 608\u001b[0m     \u001b[39mlambda\u001b[39;00m: _get_explicit_environ_credentials(quota_project_id\u001b[39m=\u001b[39;49mquota_project_id),\n\u001b[0;32m    609\u001b[0m     \u001b[39mlambda\u001b[39;00m: _get_gcloud_sdk_credentials(quota_project_id\u001b[39m=\u001b[39mquota_project_id),\n\u001b[0;32m    610\u001b[0m     _get_gae_credentials,\n\u001b[0;32m    611\u001b[0m     \u001b[39mlambda\u001b[39;00m: _get_gce_credentials(request, quota_project_id\u001b[39m=\u001b[39mquota_project_id),\n\u001b[0;32m    612\u001b[0m )\n\u001b[0;32m    614\u001b[0m \u001b[39mfor\u001b[39;00m checker \u001b[39min\u001b[39;00m checkers:\n\u001b[0;32m    615\u001b[0m     credentials, project_id \u001b[39m=\u001b[39m checker()\n",
      "File \u001b[1;32mc:\\Users\\bhara\\AppData\\Local\\Programs\\Python\\Python311\\Lib\\site-packages\\google\\auth\\_default.py:228\u001b[0m, in \u001b[0;36m_get_explicit_environ_credentials\u001b[1;34m(quota_project_id)\u001b[0m\n\u001b[0;32m    225\u001b[0m     \u001b[39mreturn\u001b[39;00m _get_gcloud_sdk_credentials(quota_project_id\u001b[39m=\u001b[39mquota_project_id)\n\u001b[0;32m    227\u001b[0m \u001b[39mif\u001b[39;00m explicit_file \u001b[39mis\u001b[39;00m \u001b[39mnot\u001b[39;00m \u001b[39mNone\u001b[39;00m:\n\u001b[1;32m--> 228\u001b[0m     credentials, project_id \u001b[39m=\u001b[39m load_credentials_from_file(\n\u001b[0;32m    229\u001b[0m         os\u001b[39m.\u001b[39;49menviron[environment_vars\u001b[39m.\u001b[39;49mCREDENTIALS], quota_project_id\u001b[39m=\u001b[39;49mquota_project_id\n\u001b[0;32m    230\u001b[0m     )\n\u001b[0;32m    232\u001b[0m     \u001b[39mreturn\u001b[39;00m credentials, project_id\n\u001b[0;32m    234\u001b[0m \u001b[39melse\u001b[39;00m:\n",
      "File \u001b[1;32mc:\\Users\\bhara\\AppData\\Local\\Programs\\Python\\Python311\\Lib\\site-packages\\google\\auth\\_default.py:116\u001b[0m, in \u001b[0;36mload_credentials_from_file\u001b[1;34m(filename, scopes, default_scopes, quota_project_id, request)\u001b[0m\n\u001b[0;32m     84\u001b[0m \u001b[39m\u001b[39m\u001b[39m\"\"\"Loads Google credentials from a file.\u001b[39;00m\n\u001b[0;32m     85\u001b[0m \n\u001b[0;32m     86\u001b[0m \u001b[39mThe credentials file must be a service account key, stored authorized\u001b[39;00m\n\u001b[1;32m   (...)\u001b[0m\n\u001b[0;32m    113\u001b[0m \u001b[39m        wrong format or is missing.\u001b[39;00m\n\u001b[0;32m    114\u001b[0m \u001b[39m\"\"\"\u001b[39;00m\n\u001b[0;32m    115\u001b[0m \u001b[39mif\u001b[39;00m \u001b[39mnot\u001b[39;00m os\u001b[39m.\u001b[39mpath\u001b[39m.\u001b[39mexists(filename):\n\u001b[1;32m--> 116\u001b[0m     \u001b[39mraise\u001b[39;00m exceptions\u001b[39m.\u001b[39mDefaultCredentialsError(\n\u001b[0;32m    117\u001b[0m         \u001b[39m\"\u001b[39m\u001b[39mFile \u001b[39m\u001b[39m{}\u001b[39;00m\u001b[39m was not found.\u001b[39m\u001b[39m\"\u001b[39m\u001b[39m.\u001b[39mformat(filename)\n\u001b[0;32m    118\u001b[0m     )\n\u001b[0;32m    120\u001b[0m \u001b[39mwith\u001b[39;00m io\u001b[39m.\u001b[39mopen(filename, \u001b[39m\"\u001b[39m\u001b[39mr\u001b[39m\u001b[39m\"\u001b[39m) \u001b[39mas\u001b[39;00m file_obj:\n\u001b[0;32m    121\u001b[0m     \u001b[39mtry\u001b[39;00m:\n",
      "\u001b[1;31mDefaultCredentialsError\u001b[0m: File ../Audio-to-speech-aa00874e061f.json was not found."
     ]
    }
   ],
   "source": [
    "from google.cloud import speech_v1p1beta1 as speech\n",
    "from tqdm import tqdm\n",
    "client = speech.SpeechClient()\n",
    "\n",
    "conversation = list()\n",
    "\n",
    "for file in tqdm(sorted(files)):\n",
    "\n",
    "    with open('parts/'+file, 'rb') as audio_file:\n",
    "        content = audio_file.read()\n",
    "\n",
    "    audio = speech.types.RecognitionAudio(content=content)\n",
    "\n",
    "    config = speech.types.RecognitionConfig(\n",
    "        encoding=speech.enums.RecognitionConfig.AudioEncoding.LINEAR16,\n",
    "        sample_rate_hertz=16000,\n",
    "        language_code='en-US',\n",
    "        enable_speaker_diarization=True,\n",
    "        diarization_speaker_count=2)\n",
    "\n",
    "    response = client.recognize(config, audio)\n",
    "\n",
    "    # The transcript within each result is separate and sequential per result.\n",
    "    # However, the words list within an alternative includes all the words\n",
    "    # from all the results thus far. Thus, to get all the words with speaker\n",
    "    # tags, you only have to take the words list from the last result:\n",
    "    result = response.results[-1]\n",
    "\n",
    "    words_info = result.alternatives[0].words\n",
    "    current = words_info[0].speaker_tag\n",
    "    # Printing out the output:\n",
    "    ongoing = {words_info[0].speaker_tag:[]}\n",
    "    for word_info in words_info:\n",
    "        #print(\"word: '{}', speaker_tag: {}\".format(word_info.word,word_info.speaker_tag))\n",
    "        if word_info.speaker_tag != current:\n",
    "            conversation.append(ongoing)\n",
    "            ongoing = { word_info.speaker_tag :[] }\n",
    "            current = word_info.speaker_tag\n",
    "            ongoing[word_info.speaker_tag].append(word_info.word)\n",
    "        else:\n",
    "            ongoing[word_info.speaker_tag].append(word_info.word)\n",
    "    conversation.append(ongoing)"
   ]
  },
  {
   "cell_type": "code",
   "execution_count": null,
   "metadata": {
    "scrolled": true
   },
   "outputs": [
    {
     "name": "stdout",
     "output_type": "stream",
     "text": [
      "Speaker 1 : hi I'm homeless what's your name\n",
      "Speaker 2 : my name is Ricky\n",
      "Speaker 1 : ECU new student here\n",
      "Speaker 2 : I have my first lesson this morning\n",
      "Speaker 1 : you and you student to\n",
      "Speaker 2 : know I've been here for six months\n",
      "Speaker 2 : a long time so long really\n",
      "Speaker 1 : 3 what about you I'm in Xbox one who's your teacher\n",
      "Speaker 1 : don't remember\n",
      "Speaker 2 : her name but she's got curly red hair\n",
      "Speaker 1 : yes I think so that's probably an Wallace\n",
      "Speaker 2 : do you know her is she your teacher to know but she told me last time\n",
      "Speaker 2 : have you been here only a week. Long would you live\n",
      "Speaker 2 : well I'm staying at the YMCA at the moment I'm looking for someone more permanent\n",
      "Speaker 1 : do you know of any good places\n",
      "Speaker 2 : actually my friend has a spare room\n",
      "Speaker 2 : are apartment and she's looking for a flatmate phone number\n",
      "Speaker 1 : thanks for your help can I buy you a coffee\n"
     ]
    }
   ],
   "source": [
    "for converse in conversation:\n",
    "    print( \"Speaker {} : {}\".format( list(converse.keys())[0], \" \".join(converse[list(converse.keys())[0]]) ) )"
   ]
  },
  {
   "attachments": {},
   "cell_type": "markdown",
   "metadata": {},
   "source": [
    "### Advantages\n",
    "1. diarization available (seperating speakers)\n",
    "2. Very fast\n",
    "3. Easy to use, Great documentation\n",
    "\n",
    "### Disadvantages\n",
    "1. Difficult to process nouns like names, places etc\n",
    "2. Omits some part of speech sometimes, but most words are recognized.\n",
    "3. Paid on basis of monthly amount of characters processed\n",
    "4. Uses internet connection, since it is a API\n",
    "\n",
    "### Other Options\n",
    "1. PocketSphinx - works offline, lack of documentation, Mainly for Java\n",
    "2. IBM speech to text - online, paid, not good as google cloud speech to text\n",
    "3. Microsoft Bing Voice Recognition - online, paid, not good as google cloud speech to text\n",
    "4. Many more which are not famous."
   ]
  },
  {
   "cell_type": "code",
   "execution_count": null,
   "metadata": {
    "collapsed": true
   },
   "outputs": [],
   "source": []
  }
 ],
 "metadata": {
  "kernelspec": {
   "display_name": "Python 3",
   "language": "python",
   "name": "python3"
  },
  "language_info": {
   "codemirror_mode": {
    "name": "ipython",
    "version": 3
   },
   "file_extension": ".py",
   "mimetype": "text/x-python",
   "name": "python",
   "nbconvert_exporter": "python",
   "pygments_lexer": "ipython3",
   "version": "3.11.1"
  }
 },
 "nbformat": 4,
 "nbformat_minor": 2
}
